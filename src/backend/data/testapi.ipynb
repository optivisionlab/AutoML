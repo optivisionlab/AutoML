{
 "cells": [
  {
   "cell_type": "code",
   "execution_count": 2,
   "id": "4da53515",
   "metadata": {},
   "outputs": [
    {
     "name": "stdout",
     "output_type": "stream",
     "text": [
      "Requirement already satisfied: ucimlrepo in d:\\anacoda3\\envs\\sic\\lib\\site-packages (0.0.7)\n",
      "Requirement already satisfied: pandas>=1.0.0 in d:\\anacoda3\\envs\\sic\\lib\\site-packages (from ucimlrepo) (2.2.2)\n",
      "Requirement already satisfied: certifi>=2020.12.5 in d:\\anacoda3\\envs\\sic\\lib\\site-packages (from ucimlrepo) (2024.7.4)\n",
      "Requirement already satisfied: numpy>=1.22.4 in d:\\anacoda3\\envs\\sic\\lib\\site-packages (from pandas>=1.0.0->ucimlrepo) (1.23.5)\n",
      "Requirement already satisfied: python-dateutil>=2.8.2 in d:\\anacoda3\\envs\\sic\\lib\\site-packages (from pandas>=1.0.0->ucimlrepo) (2.9.0)\n",
      "Requirement already satisfied: pytz>=2020.1 in d:\\anacoda3\\envs\\sic\\lib\\site-packages (from pandas>=1.0.0->ucimlrepo) (2024.1)\n",
      "Requirement already satisfied: tzdata>=2022.7 in d:\\anacoda3\\envs\\sic\\lib\\site-packages (from pandas>=1.0.0->ucimlrepo) (2024.1)\n",
      "Requirement already satisfied: six>=1.5 in d:\\anacoda3\\envs\\sic\\lib\\site-packages (from python-dateutil>=2.8.2->pandas>=1.0.0->ucimlrepo) (1.16.0)\n",
      "Note: you may need to restart the kernel to use updated packages.\n"
     ]
    }
   ],
   "source": [
    "%pip install ucimlrepo"
   ]
  },
  {
   "cell_type": "code",
   "execution_count": 4,
   "id": "7f7417a8",
   "metadata": {},
   "outputs": [],
   "source": [
    "import pandas as pd\n",
    "iris = pd.read_csv(\"D:/study/OptiVisionLab/project_autoML/AutoML/src/backend/assets/iris.data.csv\")\n"
   ]
  },
  {
   "cell_type": "code",
   "execution_count": 9,
   "id": "3ea50d28",
   "metadata": {},
   "outputs": [
    {
     "data": {
      "text/html": [
       "<div>\n",
       "<style scoped>\n",
       "    .dataframe tbody tr th:only-of-type {\n",
       "        vertical-align: middle;\n",
       "    }\n",
       "\n",
       "    .dataframe tbody tr th {\n",
       "        vertical-align: top;\n",
       "    }\n",
       "\n",
       "    .dataframe thead th {\n",
       "        text-align: right;\n",
       "    }\n",
       "</style>\n",
       "<table border=\"1\" class=\"dataframe\">\n",
       "  <thead>\n",
       "    <tr style=\"text-align: right;\">\n",
       "      <th></th>\n",
       "      <th>sepal_length</th>\n",
       "      <th>sepal_width</th>\n",
       "      <th>petal_length</th>\n",
       "      <th>petal_width</th>\n",
       "      <th>class</th>\n",
       "    </tr>\n",
       "  </thead>\n",
       "  <tbody>\n",
       "    <tr>\n",
       "      <th>0</th>\n",
       "      <td>5.1</td>\n",
       "      <td>3.5</td>\n",
       "      <td>1.4</td>\n",
       "      <td>0.2</td>\n",
       "      <td>Iris-setosa</td>\n",
       "    </tr>\n",
       "    <tr>\n",
       "      <th>1</th>\n",
       "      <td>4.9</td>\n",
       "      <td>3.0</td>\n",
       "      <td>1.4</td>\n",
       "      <td>0.2</td>\n",
       "      <td>Iris-setosa</td>\n",
       "    </tr>\n",
       "    <tr>\n",
       "      <th>2</th>\n",
       "      <td>4.7</td>\n",
       "      <td>3.2</td>\n",
       "      <td>1.3</td>\n",
       "      <td>0.2</td>\n",
       "      <td>Iris-setosa</td>\n",
       "    </tr>\n",
       "    <tr>\n",
       "      <th>3</th>\n",
       "      <td>4.6</td>\n",
       "      <td>3.1</td>\n",
       "      <td>1.5</td>\n",
       "      <td>0.2</td>\n",
       "      <td>Iris-setosa</td>\n",
       "    </tr>\n",
       "    <tr>\n",
       "      <th>4</th>\n",
       "      <td>5.0</td>\n",
       "      <td>3.6</td>\n",
       "      <td>1.4</td>\n",
       "      <td>0.2</td>\n",
       "      <td>Iris-setosa</td>\n",
       "    </tr>\n",
       "    <tr>\n",
       "      <th>...</th>\n",
       "      <td>...</td>\n",
       "      <td>...</td>\n",
       "      <td>...</td>\n",
       "      <td>...</td>\n",
       "      <td>...</td>\n",
       "    </tr>\n",
       "    <tr>\n",
       "      <th>145</th>\n",
       "      <td>6.7</td>\n",
       "      <td>3.0</td>\n",
       "      <td>5.2</td>\n",
       "      <td>2.3</td>\n",
       "      <td>Iris-virginica</td>\n",
       "    </tr>\n",
       "    <tr>\n",
       "      <th>146</th>\n",
       "      <td>6.3</td>\n",
       "      <td>2.5</td>\n",
       "      <td>5.0</td>\n",
       "      <td>1.9</td>\n",
       "      <td>Iris-virginica</td>\n",
       "    </tr>\n",
       "    <tr>\n",
       "      <th>147</th>\n",
       "      <td>6.5</td>\n",
       "      <td>3.0</td>\n",
       "      <td>5.2</td>\n",
       "      <td>2.0</td>\n",
       "      <td>Iris-virginica</td>\n",
       "    </tr>\n",
       "    <tr>\n",
       "      <th>148</th>\n",
       "      <td>6.2</td>\n",
       "      <td>3.4</td>\n",
       "      <td>5.4</td>\n",
       "      <td>2.3</td>\n",
       "      <td>Iris-virginica</td>\n",
       "    </tr>\n",
       "    <tr>\n",
       "      <th>149</th>\n",
       "      <td>5.9</td>\n",
       "      <td>3.0</td>\n",
       "      <td>5.1</td>\n",
       "      <td>1.8</td>\n",
       "      <td>Iris-virginica</td>\n",
       "    </tr>\n",
       "  </tbody>\n",
       "</table>\n",
       "<p>150 rows × 5 columns</p>\n",
       "</div>"
      ],
      "text/plain": [
       "     sepal_length  sepal_width  petal_length  petal_width           class\n",
       "0             5.1          3.5           1.4          0.2     Iris-setosa\n",
       "1             4.9          3.0           1.4          0.2     Iris-setosa\n",
       "2             4.7          3.2           1.3          0.2     Iris-setosa\n",
       "3             4.6          3.1           1.5          0.2     Iris-setosa\n",
       "4             5.0          3.6           1.4          0.2     Iris-setosa\n",
       "..            ...          ...           ...          ...             ...\n",
       "145           6.7          3.0           5.2          2.3  Iris-virginica\n",
       "146           6.3          2.5           5.0          1.9  Iris-virginica\n",
       "147           6.5          3.0           5.2          2.0  Iris-virginica\n",
       "148           6.2          3.4           5.4          2.3  Iris-virginica\n",
       "149           5.9          3.0           5.1          1.8  Iris-virginica\n",
       "\n",
       "[150 rows x 5 columns]"
      ]
     },
     "execution_count": 9,
     "metadata": {},
     "output_type": "execute_result"
    }
   ],
   "source": [
    "iris"
   ]
  },
  {
   "cell_type": "code",
   "execution_count": 7,
   "id": "567f5e55",
   "metadata": {},
   "outputs": [],
   "source": [
    "from sklearn.datasets import load_iris\n",
    "iris = load_iris()"
   ]
  },
  {
   "cell_type": "code",
   "execution_count": 9,
   "id": "467c0011",
   "metadata": {},
   "outputs": [],
   "source": [
    "x_train = [ x for (i, x) in enumerate(iris.data) if i%10 !=0 ]\n",
    "x_test = [x for (i, x) in enumerate(iris.data) if i%10 == 0]\n",
    "y_train = [ y for (i, y) in enumerate(iris.target) if i%10 != 0 ]\n",
    "y_test = [ y for (i, y) in enumerate(iris.target) if i%10 == 0 ]"
   ]
  },
  {
   "cell_type": "code",
   "execution_count": null,
   "id": "24169636",
   "metadata": {},
   "outputs": [
    {
     "data": {
      "text/plain": [
       "['Iris-setosa', 'Iris-versicolor', 'Iris-virginica']"
      ]
     },
     "execution_count": 34,
     "metadata": {},
     "output_type": "execute_result"
    }
   ],
   "source": [
    "target = iris.iloc[:,-1].unique().tolist()"
   ]
  },
  {
   "cell_type": "code",
   "execution_count": 33,
   "id": "5b68783b",
   "metadata": {},
   "outputs": [
    {
     "data": {
      "text/plain": [
       "['Iris-setosa', 'Iris-versicolor', 'Iris-virginica']"
      ]
     },
     "execution_count": 33,
     "metadata": {},
     "output_type": "execute_result"
    }
   ],
   "source": [
    "target"
   ]
  },
  {
   "cell_type": "code",
   "execution_count": 21,
   "id": "b40d0e8f",
   "metadata": {},
   "outputs": [
    {
     "data": {
      "text/plain": [
       "['sepal_length', 'sepal_width', 'petal_length', 'petal_width', 'class']"
      ]
     },
     "execution_count": 21,
     "metadata": {},
     "output_type": "execute_result"
    }
   ],
   "source": [
    "iris.columns.to_list()"
   ]
  },
  {
   "cell_type": "code",
   "execution_count": null,
   "id": "acce77c6",
   "metadata": {},
   "outputs": [],
   "source": [
    "from ucimlrepo import fetch_ucirepo\n",
    "\n",
    "#fetch dataset\n",
    "iris = fetch_ucirepo(id=53)\n",
    "\n",
    "#data (as pandas dataframes)\n",
    "X = iris.data.features\n",
    "Y = iris.data.targets"
   ]
  },
  {
   "cell_type": "code",
   "execution_count": null,
   "id": "3b2026cb",
   "metadata": {},
   "outputs": [],
   "source": [
    "iris.data"
   ]
  },
  {
   "cell_type": "code",
   "execution_count": null,
   "id": "ef38a801",
   "metadata": {},
   "outputs": [],
   "source": [
    "X"
   ]
  },
  {
   "cell_type": "code",
   "execution_count": null,
   "id": "261b5e62",
   "metadata": {},
   "outputs": [],
   "source": [
    "X.values"
   ]
  },
  {
   "cell_type": "code",
   "execution_count": null,
   "id": "401aa8b6",
   "metadata": {},
   "outputs": [],
   "source": [
    "X.columns"
   ]
  },
  {
   "cell_type": "code",
   "execution_count": null,
   "id": "5dec19bd",
   "metadata": {},
   "outputs": [],
   "source": [
    "import base64\n",
    "import pandas as pd\n",
    "import io\n",
    "\n",
    "def encode_csv_to_base64(file_path):\n",
    "    with open(file_path, \"rb\") as file:\n",
    "        encoded_data = bastase64.b64encode(file.read()).decode(\"utf-8\")\n",
    "    return encoded_data\n",
    "\n",
    "def decode_base64_to_dataframe(base64_string):\n",
    "    #Giai ma Base64 thanh du lieu nhi phan\n",
    "    decoded_bytes = base64.b64decode(base64_string)\n",
    "\n",
    "    #Chuyen du lieu nhi phan thanh doi tuong giong file (stringIO)\n",
    "    decoded_buffer = io.StringIO(decoded_bytes.decode(\"utf-8\"))\n",
    "\n",
    "    #Doc du lieu vao DataFrame\n",
    "    df = pd.read_csv(decoded_buffer)\n",
    "\n",
    "    return df\n",
    "\n",
    "#Vi du: Mot chuoi Base64 dai dien cho file CSV\n",
    "#base64_string = \"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\"\n",
    "\n",
    "#Giai ma va doc vao DataFrame\n",
    "#df = decode_base64_to_dataframe(base64_string)\n",
    "\n",
    "#Hien thi DataFrame\n",
    "#print(df)"
   ]
  },
  {
   "cell_type": "code",
   "execution_count": 2,
   "id": "c4099f9c",
   "metadata": {},
   "outputs": [
    {
     "data": {
      "text/plain": [
       "'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'"
      ]
     },
     "execution_count": 2,
     "metadata": {},
     "output_type": "execute_result"
    }
   ],
   "source": [
    "data_base64 = encode_csv_to_base64(file_path=\"D:/study/OptiVisionLab/project_autoML/AutoML/src/backend/assets/iris.data.csv\")\n",
    "data_base64"
   ]
  },
  {
   "cell_type": "code",
   "execution_count": 3,
   "id": "bb113a1b",
   "metadata": {},
   "outputs": [
    {
     "name": "stdout",
     "output_type": "stream",
     "text": [
      "     sepal_length  sepal_width  petal_length  petal_width           class\n",
      "0             5.1          3.5           1.4          0.2     Iris-setosa\n",
      "1             4.9          3.0           1.4          0.2     Iris-setosa\n",
      "2             4.7          3.2           1.3          0.2     Iris-setosa\n",
      "3             4.6          3.1           1.5          0.2     Iris-setosa\n",
      "4             5.0          3.6           1.4          0.2     Iris-setosa\n",
      "..            ...          ...           ...          ...             ...\n",
      "145           6.7          3.0           5.2          2.3  Iris-virginica\n",
      "146           6.3          2.5           5.0          1.9  Iris-virginica\n",
      "147           6.5          3.0           5.2          2.0  Iris-virginica\n",
      "148           6.2          3.4           5.4          2.3  Iris-virginica\n",
      "149           5.9          3.0           5.1          1.8  Iris-virginica\n",
      "\n",
      "[150 rows x 5 columns]\n"
     ]
    }
   ],
   "source": [
    "#Vi du: Mot chuoi Base64 dai dien cho file CSV\n",
    "base64_string = \"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\"\n",
    "\n",
    "#Giai ma va doc vao DataFrame\n",
    "df = decode_base64_to_dataframe(base64_string)\n",
    "\n",
    "#Hien thi DataFrame\n",
    "print(df)"
   ]
  },
  {
   "cell_type": "code",
   "execution_count": null,
   "id": "b9cfcb09",
   "metadata": {},
   "outputs": [],
   "source": [
    "data_iris = df_iris.values\n",
    "columns = df_iris.columns"
   ]
  },
  {
   "cell_type": "code",
   "execution_count": null,
   "id": "910ba0c1",
   "metadata": {},
   "outputs": [],
   "source": [
    "from ucimlrepo import fetch_ucirepo\n",
    "import pandas as pd\n",
    "\n",
    "def get_data_uci_where_id(id):\n",
    "    data_uci = fetch_ucirepo(id=id)\n",
    "    X = data_uci.data.fetures\n",
    "    y = data_uci.data.targets\n",
    "    df = pd.concat([X, y], axis=1)\n",
    "    return df\n",
    "\n",
    "def format_data_automl(rows, cols):\n",
    "    data_output = []\n",
    "    for row in rows:\n",
    "        item = {}\n",
    "        for key, value in zip(cols, row):\n",
    "            item[key] = value\n",
    "        data_output.append(item)\n",
    "    return data_output"
   ]
  },
  {
   "cell_type": "code",
   "execution_count": null,
   "id": "b545835c",
   "metadata": {},
   "outputs": [],
   "source": [
    "data_uci = fetch_ucirepo(id=53)\n",
    "data_uci.data.headers"
   ]
  },
  {
   "cell_type": "code",
   "execution_count": null,
   "id": "150ec9e0",
   "metadata": {},
   "outputs": [],
   "source": [
    "data_uci.data"
   ]
  },
  {
   "cell_type": "code",
   "execution_count": null,
   "id": "14aa1819",
   "metadata": {},
   "outputs": [],
   "source": [
    "format_data_automl(rows=data_iris, cols=columns)"
   ]
  },
  {
   "cell_type": "code",
   "execution_count": null,
   "id": "1402dba8",
   "metadata": {},
   "outputs": [],
   "source": [
    "data_output = []\n",
    "\n",
    "for row in data_iris:\n",
    "    print(row)\n",
    "    break"
   ]
  },
  {
   "cell_type": "code",
   "execution_count": null,
   "id": "54468664",
   "metadata": {},
   "outputs": [],
   "source": [
    "import requests\n",
    "import json\n",
    "\n",
    "url =\"\"\n",
    "\n",
    "payload = json.dumps({\n",
    "    \"data\": data_uci['data'],\n",
    "    \"config\": {\n",
    "        \"choose\": \"new_model\",\n",
    "        \"metric_sort\": \"accouracy\",\n",
    "        \"list_features\": data_uci['list_features'],\n",
    "        \"target\": data_uci['list_feature'][-1]\n",
    "    }\n",
    "})\n",
    "headers = {\n",
    "    \"accept\": \"application/json\",\n",
    "    \"Content-Type\": \"application/json\"\n",
    "}\n",
    "\n",
    "response = requests.request(\"POST\", url, headers=headers, data=payload)\n",
    "print(response.text)"
   ]
  }
 ],
 "metadata": {
  "kernelspec": {
   "display_name": "sic",
   "language": "python",
   "name": "python3"
  },
  "language_info": {
   "codemirror_mode": {
    "name": "ipython",
    "version": 3
   },
   "file_extension": ".py",
   "mimetype": "text/x-python",
   "name": "python",
   "nbconvert_exporter": "python",
   "pygments_lexer": "ipython3",
   "version": "3.10.12"
  }
 },
 "nbformat": 4,
 "nbformat_minor": 5
}
