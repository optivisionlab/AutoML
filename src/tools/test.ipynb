{
 "cells": [
  {
   "cell_type": "code",
   "execution_count": 1,
   "metadata": {},
   "outputs": [
    {
     "name": "stdout",
     "output_type": "stream",
     "text": [
      "Requirement already satisfied: ucimlrepo in /home/quang.domanh/.conda/envs/automl/lib/python3.10/site-packages (0.0.7)\n",
      "Requirement already satisfied: pandas>=1.0.0 in /home/quang.domanh/.conda/envs/automl/lib/python3.10/site-packages (from ucimlrepo) (2.2.2)\n",
      "Requirement already satisfied: certifi>=2020.12.5 in /home/quang.domanh/.conda/envs/automl/lib/python3.10/site-packages (from ucimlrepo) (2024.7.4)\n",
      "Requirement already satisfied: numpy>=1.22.4 in /home/quang.domanh/.conda/envs/automl/lib/python3.10/site-packages (from pandas>=1.0.0->ucimlrepo) (1.26.2)\n",
      "Requirement already satisfied: python-dateutil>=2.8.2 in /home/quang.domanh/.conda/envs/automl/lib/python3.10/site-packages (from pandas>=1.0.0->ucimlrepo) (2.9.0)\n",
      "Requirement already satisfied: pytz>=2020.1 in /home/quang.domanh/.conda/envs/automl/lib/python3.10/site-packages (from pandas>=1.0.0->ucimlrepo) (2024.1)\n",
      "Requirement already satisfied: tzdata>=2022.7 in /home/quang.domanh/.conda/envs/automl/lib/python3.10/site-packages (from pandas>=1.0.0->ucimlrepo) (2024.1)\n",
      "Requirement already satisfied: six>=1.5 in /home/quang.domanh/.conda/envs/automl/lib/python3.10/site-packages (from python-dateutil>=2.8.2->pandas>=1.0.0->ucimlrepo) (1.16.0)\n"
     ]
    }
   ],
   "source": [
    "!pip install ucimlrepo"
   ]
  },
  {
   "cell_type": "code",
   "execution_count": 2,
   "metadata": {},
   "outputs": [],
   "source": [
    "from ucimlrepo import fetch_ucirepo \n",
    "  \n",
    "# fetch dataset \n",
    "iris = fetch_ucirepo(id=53) \n",
    "  \n",
    "# data (as pandas dataframes) \n",
    "X = iris.data.features \n",
    "y = iris.data.targets\n"
   ]
  },
  {
   "cell_type": "code",
   "execution_count": 7,
   "metadata": {},
   "outputs": [
    {
     "data": {
      "text/plain": [
       "{'ids': None,\n",
       " 'features':      sepal length  sepal width  petal length  petal width\n",
       " 0             5.1          3.5           1.4          0.2\n",
       " 1             4.9          3.0           1.4          0.2\n",
       " 2             4.7          3.2           1.3          0.2\n",
       " 3             4.6          3.1           1.5          0.2\n",
       " 4             5.0          3.6           1.4          0.2\n",
       " ..            ...          ...           ...          ...\n",
       " 145           6.7          3.0           5.2          2.3\n",
       " 146           6.3          2.5           5.0          1.9\n",
       " 147           6.5          3.0           5.2          2.0\n",
       " 148           6.2          3.4           5.4          2.3\n",
       " 149           5.9          3.0           5.1          1.8\n",
       " \n",
       " [150 rows x 4 columns],\n",
       " 'targets':               class\n",
       " 0       Iris-setosa\n",
       " 1       Iris-setosa\n",
       " 2       Iris-setosa\n",
       " 3       Iris-setosa\n",
       " 4       Iris-setosa\n",
       " ..              ...\n",
       " 145  Iris-virginica\n",
       " 146  Iris-virginica\n",
       " 147  Iris-virginica\n",
       " 148  Iris-virginica\n",
       " 149  Iris-virginica\n",
       " \n",
       " [150 rows x 1 columns],\n",
       " 'original':      sepal length  sepal width  petal length  petal width           class\n",
       " 0             5.1          3.5           1.4          0.2     Iris-setosa\n",
       " 1             4.9          3.0           1.4          0.2     Iris-setosa\n",
       " 2             4.7          3.2           1.3          0.2     Iris-setosa\n",
       " 3             4.6          3.1           1.5          0.2     Iris-setosa\n",
       " 4             5.0          3.6           1.4          0.2     Iris-setosa\n",
       " ..            ...          ...           ...          ...             ...\n",
       " 145           6.7          3.0           5.2          2.3  Iris-virginica\n",
       " 146           6.3          2.5           5.0          1.9  Iris-virginica\n",
       " 147           6.5          3.0           5.2          2.0  Iris-virginica\n",
       " 148           6.2          3.4           5.4          2.3  Iris-virginica\n",
       " 149           5.9          3.0           5.1          1.8  Iris-virginica\n",
       " \n",
       " [150 rows x 5 columns],\n",
       " 'headers': Index(['sepal length', 'sepal width', 'petal length', 'petal width', 'class'], dtype='object')}"
      ]
     },
     "execution_count": 7,
     "metadata": {},
     "output_type": "execute_result"
    }
   ],
   "source": [
    "iris.data"
   ]
  },
  {
   "cell_type": "code",
   "execution_count": 3,
   "metadata": {},
   "outputs": [
    {
     "data": {
      "text/html": [
       "<div>\n",
       "<style scoped>\n",
       "    .dataframe tbody tr th:only-of-type {\n",
       "        vertical-align: middle;\n",
       "    }\n",
       "\n",
       "    .dataframe tbody tr th {\n",
       "        vertical-align: top;\n",
       "    }\n",
       "\n",
       "    .dataframe thead th {\n",
       "        text-align: right;\n",
       "    }\n",
       "</style>\n",
       "<table border=\"1\" class=\"dataframe\">\n",
       "  <thead>\n",
       "    <tr style=\"text-align: right;\">\n",
       "      <th></th>\n",
       "      <th>sepal length</th>\n",
       "      <th>sepal width</th>\n",
       "      <th>petal length</th>\n",
       "      <th>petal width</th>\n",
       "    </tr>\n",
       "  </thead>\n",
       "  <tbody>\n",
       "    <tr>\n",
       "      <th>0</th>\n",
       "      <td>5.1</td>\n",
       "      <td>3.5</td>\n",
       "      <td>1.4</td>\n",
       "      <td>0.2</td>\n",
       "    </tr>\n",
       "    <tr>\n",
       "      <th>1</th>\n",
       "      <td>4.9</td>\n",
       "      <td>3.0</td>\n",
       "      <td>1.4</td>\n",
       "      <td>0.2</td>\n",
       "    </tr>\n",
       "    <tr>\n",
       "      <th>2</th>\n",
       "      <td>4.7</td>\n",
       "      <td>3.2</td>\n",
       "      <td>1.3</td>\n",
       "      <td>0.2</td>\n",
       "    </tr>\n",
       "    <tr>\n",
       "      <th>3</th>\n",
       "      <td>4.6</td>\n",
       "      <td>3.1</td>\n",
       "      <td>1.5</td>\n",
       "      <td>0.2</td>\n",
       "    </tr>\n",
       "    <tr>\n",
       "      <th>4</th>\n",
       "      <td>5.0</td>\n",
       "      <td>3.6</td>\n",
       "      <td>1.4</td>\n",
       "      <td>0.2</td>\n",
       "    </tr>\n",
       "    <tr>\n",
       "      <th>...</th>\n",
       "      <td>...</td>\n",
       "      <td>...</td>\n",
       "      <td>...</td>\n",
       "      <td>...</td>\n",
       "    </tr>\n",
       "    <tr>\n",
       "      <th>145</th>\n",
       "      <td>6.7</td>\n",
       "      <td>3.0</td>\n",
       "      <td>5.2</td>\n",
       "      <td>2.3</td>\n",
       "    </tr>\n",
       "    <tr>\n",
       "      <th>146</th>\n",
       "      <td>6.3</td>\n",
       "      <td>2.5</td>\n",
       "      <td>5.0</td>\n",
       "      <td>1.9</td>\n",
       "    </tr>\n",
       "    <tr>\n",
       "      <th>147</th>\n",
       "      <td>6.5</td>\n",
       "      <td>3.0</td>\n",
       "      <td>5.2</td>\n",
       "      <td>2.0</td>\n",
       "    </tr>\n",
       "    <tr>\n",
       "      <th>148</th>\n",
       "      <td>6.2</td>\n",
       "      <td>3.4</td>\n",
       "      <td>5.4</td>\n",
       "      <td>2.3</td>\n",
       "    </tr>\n",
       "    <tr>\n",
       "      <th>149</th>\n",
       "      <td>5.9</td>\n",
       "      <td>3.0</td>\n",
       "      <td>5.1</td>\n",
       "      <td>1.8</td>\n",
       "    </tr>\n",
       "  </tbody>\n",
       "</table>\n",
       "<p>150 rows × 4 columns</p>\n",
       "</div>"
      ],
      "text/plain": [
       "     sepal length  sepal width  petal length  petal width\n",
       "0             5.1          3.5           1.4          0.2\n",
       "1             4.9          3.0           1.4          0.2\n",
       "2             4.7          3.2           1.3          0.2\n",
       "3             4.6          3.1           1.5          0.2\n",
       "4             5.0          3.6           1.4          0.2\n",
       "..            ...          ...           ...          ...\n",
       "145           6.7          3.0           5.2          2.3\n",
       "146           6.3          2.5           5.0          1.9\n",
       "147           6.5          3.0           5.2          2.0\n",
       "148           6.2          3.4           5.4          2.3\n",
       "149           5.9          3.0           5.1          1.8\n",
       "\n",
       "[150 rows x 4 columns]"
      ]
     },
     "execution_count": 3,
     "metadata": {},
     "output_type": "execute_result"
    }
   ],
   "source": [
    "X"
   ]
  },
  {
   "cell_type": "code",
   "execution_count": null,
   "metadata": {},
   "outputs": [],
   "source": [
    "X.values"
   ]
  },
  {
   "cell_type": "code",
   "execution_count": 5,
   "metadata": {},
   "outputs": [
    {
     "data": {
      "text/plain": [
       "Index(['sepal length', 'sepal width', 'petal length', 'petal width'], dtype='object')"
      ]
     },
     "execution_count": 5,
     "metadata": {},
     "output_type": "execute_result"
    }
   ],
   "source": [
    "X.columns"
   ]
  },
  {
   "cell_type": "code",
   "execution_count": 10,
   "metadata": {},
   "outputs": [],
   "source": [
    "import base64\n",
    "import pandas as pd\n",
    "import io\n",
    "\n",
    "\n",
    "def encode_csv_to_base64(file_path):\n",
    "    with open(file_path, \"rb\") as file:\n",
    "        encoded_data = base64.b64encode(file.read()).decode(\"utf-8\")\n",
    "    return encoded_data\n",
    "\n",
    "\n",
    "def decode_base64_to_dataframe(base64_string):\n",
    "    # Giải mã Base64 thành dữ liệu nhị phân\n",
    "    decoded_bytes = base64.b64decode(base64_string)\n",
    "    \n",
    "    # Chuyển dữ liệu nhị phân thành đối tượng giống file (StringIO)\n",
    "    decoded_buffer = io.StringIO(decoded_bytes.decode(\"utf-8\"))\n",
    "    \n",
    "    # Đọc dữ liệu vào DataFrame\n",
    "    df = pd.read_csv(decoded_buffer)\n",
    "    \n",
    "    return df\n",
    "\n",
    "# # Ví dụ: Một chuỗi Base64 đại diện cho file CSV\n",
    "# base64_string = \"U29tZV9Db2x1bW4sVmFsdWUKQXMsMTIKQnMsMjMKQ3MsMzQK\"  # Base64 của file CSV\n",
    "\n",
    "# # Giải mã và đọc vào DataFrame\n",
    "# df = decode_base64_to_dataframe(base64_string)\n",
    "\n",
    "# # Hiển thị DataFrame\n",
    "# print(df)\n"
   ]
  },
  {
   "cell_type": "code",
   "execution_count": 11,
   "metadata": {},
   "outputs": [
    {
     "data": {
      "text/plain": [
       "'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'"
      ]
     },
     "execution_count": 11,
     "metadata": {},
     "output_type": "execute_result"
    }
   ],
   "source": [
    "data_base64 = encode_csv_to_base64(file_path=\"/work/quang.domanh/AutoML/src/backend/assets/iris.data.csv\")\n",
    "data_base64"
   ]
  },
  {
   "cell_type": "code",
   "execution_count": null,
   "metadata": {},
   "outputs": [],
   "source": [
    "df_iris = decode_base64_to_dataframe(base64_string=data_base64)\n",
    "df_iris"
   ]
  },
  {
   "cell_type": "code",
   "execution_count": 6,
   "metadata": {},
   "outputs": [],
   "source": [
    "# KAFKA\n",
    "\n",
    "from kafka import KafkaProducer\n",
    "\n",
    "# Initialize the producer\n",
    "producer = KafkaProducer(bootstrap_servers='10.100.200.119:9092')\n",
    "\n",
    "# Send message\n",
    "producer.send('my-topic', b'Hello, Kafka! 10.100.200.119')\n",
    "\n",
    "# Ensure all messages are sent before closing\n",
    "producer.flush()"
   ]
  },
  {
   "cell_type": "code",
   "execution_count": 7,
   "metadata": {},
   "outputs": [
    {
     "name": "stdout",
     "output_type": "stream",
     "text": [
      "Listening for messages...\n",
      "Received: b'Hello, Kafka!'\n",
      "Received: b'Hello, Kafka!'\n",
      "Received: b'Hello, Kafka! 10.100.200.119'\n"
     ]
    },
    {
     "ename": "KeyboardInterrupt",
     "evalue": "",
     "output_type": "error",
     "traceback": [
      "\u001b[0;31m---------------------------------------------------------------------------\u001b[0m",
      "\u001b[0;31mKeyboardInterrupt\u001b[0m                         Traceback (most recent call last)",
      "Cell \u001b[0;32mIn[7], line 12\u001b[0m\n\u001b[1;32m     10\u001b[0m \u001b[38;5;66;03m# Read messages from Kafka\u001b[39;00m\n\u001b[1;32m     11\u001b[0m \u001b[38;5;28mprint\u001b[39m(\u001b[38;5;124m\"\u001b[39m\u001b[38;5;124mListening for messages...\u001b[39m\u001b[38;5;124m\"\u001b[39m)\n\u001b[0;32m---> 12\u001b[0m \u001b[38;5;28;01mfor\u001b[39;00m message \u001b[38;5;129;01min\u001b[39;00m consumer:\n\u001b[1;32m     13\u001b[0m     \u001b[38;5;28mprint\u001b[39m(\u001b[38;5;124mf\u001b[39m\u001b[38;5;124m\"\u001b[39m\u001b[38;5;124mReceived: \u001b[39m\u001b[38;5;132;01m{\u001b[39;00mmessage\u001b[38;5;241m.\u001b[39mvalue\u001b[38;5;132;01m}\u001b[39;00m\u001b[38;5;124m\"\u001b[39m)\n",
      "File \u001b[0;32m/data/miniconda3/envs/automl/lib/python3.10/site-packages/kafka/consumer/group.py:1188\u001b[0m, in \u001b[0;36mKafkaConsumer.__next__\u001b[0;34m(self)\u001b[0m\n\u001b[1;32m   1186\u001b[0m     \u001b[38;5;28mself\u001b[39m\u001b[38;5;241m.\u001b[39m_iterator \u001b[38;5;241m=\u001b[39m \u001b[38;5;28mself\u001b[39m\u001b[38;5;241m.\u001b[39m_message_generator_v2()\n\u001b[1;32m   1187\u001b[0m \u001b[38;5;28;01mtry\u001b[39;00m:\n\u001b[0;32m-> 1188\u001b[0m     \u001b[38;5;28;01mreturn\u001b[39;00m \u001b[38;5;28;43mnext\u001b[39;49m\u001b[43m(\u001b[49m\u001b[38;5;28;43mself\u001b[39;49m\u001b[38;5;241;43m.\u001b[39;49m\u001b[43m_iterator\u001b[49m\u001b[43m)\u001b[49m\n\u001b[1;32m   1189\u001b[0m \u001b[38;5;28;01mexcept\u001b[39;00m \u001b[38;5;167;01mStopIteration\u001b[39;00m:\n\u001b[1;32m   1190\u001b[0m     \u001b[38;5;28mself\u001b[39m\u001b[38;5;241m.\u001b[39m_iterator \u001b[38;5;241m=\u001b[39m \u001b[38;5;28;01mNone\u001b[39;00m\n",
      "File \u001b[0;32m/data/miniconda3/envs/automl/lib/python3.10/site-packages/kafka/consumer/group.py:1160\u001b[0m, in \u001b[0;36mKafkaConsumer._message_generator_v2\u001b[0;34m(self)\u001b[0m\n\u001b[1;32m   1158\u001b[0m \u001b[38;5;28;01mdef\u001b[39;00m\u001b[38;5;250m \u001b[39m\u001b[38;5;21m_message_generator_v2\u001b[39m(\u001b[38;5;28mself\u001b[39m):\n\u001b[1;32m   1159\u001b[0m     timeout_ms \u001b[38;5;241m=\u001b[39m \u001b[38;5;241m1000\u001b[39m \u001b[38;5;241m*\u001b[39m \u001b[38;5;28mmax\u001b[39m(\u001b[38;5;241m0\u001b[39m, \u001b[38;5;28mself\u001b[39m\u001b[38;5;241m.\u001b[39m_consumer_timeout \u001b[38;5;241m-\u001b[39m time\u001b[38;5;241m.\u001b[39mtime())\n\u001b[0;32m-> 1160\u001b[0m     record_map \u001b[38;5;241m=\u001b[39m \u001b[38;5;28;43mself\u001b[39;49m\u001b[38;5;241;43m.\u001b[39;49m\u001b[43mpoll\u001b[49m\u001b[43m(\u001b[49m\u001b[43mtimeout_ms\u001b[49m\u001b[38;5;241;43m=\u001b[39;49m\u001b[43mtimeout_ms\u001b[49m\u001b[43m,\u001b[49m\u001b[43m \u001b[49m\u001b[43mupdate_offsets\u001b[49m\u001b[38;5;241;43m=\u001b[39;49m\u001b[38;5;28;43;01mFalse\u001b[39;49;00m\u001b[43m)\u001b[49m\n\u001b[1;32m   1161\u001b[0m     \u001b[38;5;28;01mfor\u001b[39;00m tp, records \u001b[38;5;129;01min\u001b[39;00m six\u001b[38;5;241m.\u001b[39miteritems(record_map):\n\u001b[1;32m   1162\u001b[0m         \u001b[38;5;66;03m# Generators are stateful, and it is possible that the tp / records\u001b[39;00m\n\u001b[1;32m   1163\u001b[0m         \u001b[38;5;66;03m# here may become stale during iteration -- i.e., we seek to a\u001b[39;00m\n\u001b[1;32m   1164\u001b[0m         \u001b[38;5;66;03m# different offset, pause consumption, or lose assignment.\u001b[39;00m\n\u001b[1;32m   1165\u001b[0m         \u001b[38;5;28;01mfor\u001b[39;00m record \u001b[38;5;129;01min\u001b[39;00m records:\n\u001b[1;32m   1166\u001b[0m             \u001b[38;5;66;03m# is_fetchable(tp) should handle assignment changes and offset\u001b[39;00m\n\u001b[1;32m   1167\u001b[0m             \u001b[38;5;66;03m# resets; for all other changes (e.g., seeks) we'll rely on the\u001b[39;00m\n\u001b[1;32m   1168\u001b[0m             \u001b[38;5;66;03m# outer function destroying the existing iterator/generator\u001b[39;00m\n\u001b[1;32m   1169\u001b[0m             \u001b[38;5;66;03m# via self._iterator = None\u001b[39;00m\n",
      "File \u001b[0;32m/data/miniconda3/envs/automl/lib/python3.10/site-packages/kafka/consumer/group.py:684\u001b[0m, in \u001b[0;36mKafkaConsumer.poll\u001b[0;34m(self, timeout_ms, max_records, update_offsets)\u001b[0m\n\u001b[1;32m    682\u001b[0m timer \u001b[38;5;241m=\u001b[39m Timer(timeout_ms)\n\u001b[1;32m    683\u001b[0m \u001b[38;5;28;01mwhile\u001b[39;00m \u001b[38;5;129;01mnot\u001b[39;00m \u001b[38;5;28mself\u001b[39m\u001b[38;5;241m.\u001b[39m_closed:\n\u001b[0;32m--> 684\u001b[0m     records \u001b[38;5;241m=\u001b[39m \u001b[38;5;28;43mself\u001b[39;49m\u001b[38;5;241;43m.\u001b[39;49m\u001b[43m_poll_once\u001b[49m\u001b[43m(\u001b[49m\u001b[43mtimer\u001b[49m\u001b[43m,\u001b[49m\u001b[43m \u001b[49m\u001b[43mmax_records\u001b[49m\u001b[43m,\u001b[49m\u001b[43m \u001b[49m\u001b[43mupdate_offsets\u001b[49m\u001b[38;5;241;43m=\u001b[39;49m\u001b[43mupdate_offsets\u001b[49m\u001b[43m)\u001b[49m\n\u001b[1;32m    685\u001b[0m     \u001b[38;5;28;01mif\u001b[39;00m records:\n\u001b[1;32m    686\u001b[0m         \u001b[38;5;28;01mreturn\u001b[39;00m records\n",
      "File \u001b[0;32m/data/miniconda3/envs/automl/lib/python3.10/site-packages/kafka/consumer/group.py:731\u001b[0m, in \u001b[0;36mKafkaConsumer._poll_once\u001b[0;34m(self, timer, max_records, update_offsets)\u001b[0m\n\u001b[1;32m    728\u001b[0m     log\u001b[38;5;241m.\u001b[39mdebug(\u001b[38;5;124m'\u001b[39m\u001b[38;5;124mpoll: do not have all fetch positions...\u001b[39m\u001b[38;5;124m'\u001b[39m)\n\u001b[1;32m    729\u001b[0m     poll_timeout_ms \u001b[38;5;241m=\u001b[39m \u001b[38;5;28mmin\u001b[39m(poll_timeout_ms, \u001b[38;5;28mself\u001b[39m\u001b[38;5;241m.\u001b[39mconfig[\u001b[38;5;124m'\u001b[39m\u001b[38;5;124mretry_backoff_ms\u001b[39m\u001b[38;5;124m'\u001b[39m])\n\u001b[0;32m--> 731\u001b[0m \u001b[38;5;28;43mself\u001b[39;49m\u001b[38;5;241;43m.\u001b[39;49m\u001b[43m_client\u001b[49m\u001b[38;5;241;43m.\u001b[39;49m\u001b[43mpoll\u001b[49m\u001b[43m(\u001b[49m\u001b[43mtimeout_ms\u001b[49m\u001b[38;5;241;43m=\u001b[39;49m\u001b[43mpoll_timeout_ms\u001b[49m\u001b[43m)\u001b[49m\n\u001b[1;32m    732\u001b[0m \u001b[38;5;66;03m# after the long poll, we should check whether the group needs to rebalance\u001b[39;00m\n\u001b[1;32m    733\u001b[0m \u001b[38;5;66;03m# prior to returning data so that the group can stabilize faster\u001b[39;00m\n\u001b[1;32m    734\u001b[0m \u001b[38;5;28;01mif\u001b[39;00m \u001b[38;5;28mself\u001b[39m\u001b[38;5;241m.\u001b[39m_coordinator\u001b[38;5;241m.\u001b[39mneed_rejoin():\n",
      "File \u001b[0;32m/data/miniconda3/envs/automl/lib/python3.10/site-packages/kafka/client_async.py:685\u001b[0m, in \u001b[0;36mKafkaClient.poll\u001b[0;34m(self, timeout_ms, future)\u001b[0m\n\u001b[1;32m    678\u001b[0m         timeout \u001b[38;5;241m=\u001b[39m \u001b[38;5;28mmin\u001b[39m(\n\u001b[1;32m    679\u001b[0m             user_timeout_ms,\n\u001b[1;32m    680\u001b[0m             metadata_timeout_ms,\n\u001b[1;32m    681\u001b[0m             idle_connection_timeout_ms,\n\u001b[1;32m    682\u001b[0m             request_timeout_ms)\n\u001b[1;32m    683\u001b[0m         timeout \u001b[38;5;241m=\u001b[39m \u001b[38;5;28mmax\u001b[39m(\u001b[38;5;241m0\u001b[39m, timeout)  \u001b[38;5;66;03m# avoid negative timeouts\u001b[39;00m\n\u001b[0;32m--> 685\u001b[0m     \u001b[38;5;28;43mself\u001b[39;49m\u001b[38;5;241;43m.\u001b[39;49m\u001b[43m_poll\u001b[49m\u001b[43m(\u001b[49m\u001b[43mtimeout\u001b[49m\u001b[43m \u001b[49m\u001b[38;5;241;43m/\u001b[39;49m\u001b[43m \u001b[49m\u001b[38;5;241;43m1000\u001b[39;49m\u001b[43m)\u001b[49m\n\u001b[1;32m    687\u001b[0m \u001b[38;5;66;03m# called without the lock to avoid deadlock potential\u001b[39;00m\n\u001b[1;32m    688\u001b[0m \u001b[38;5;66;03m# if handlers need to acquire locks\u001b[39;00m\n\u001b[1;32m    689\u001b[0m responses\u001b[38;5;241m.\u001b[39mextend(\u001b[38;5;28mself\u001b[39m\u001b[38;5;241m.\u001b[39m_fire_pending_completed_requests())\n",
      "File \u001b[0;32m/data/miniconda3/envs/automl/lib/python3.10/site-packages/kafka/client_async.py:728\u001b[0m, in \u001b[0;36mKafkaClient._poll\u001b[0;34m(self, timeout)\u001b[0m\n\u001b[1;32m    725\u001b[0m \u001b[38;5;28mself\u001b[39m\u001b[38;5;241m.\u001b[39m_register_send_sockets()\n\u001b[1;32m    727\u001b[0m start_select \u001b[38;5;241m=\u001b[39m time\u001b[38;5;241m.\u001b[39mtime()\n\u001b[0;32m--> 728\u001b[0m ready \u001b[38;5;241m=\u001b[39m \u001b[38;5;28;43mself\u001b[39;49m\u001b[38;5;241;43m.\u001b[39;49m\u001b[43m_selector\u001b[49m\u001b[38;5;241;43m.\u001b[39;49m\u001b[43mselect\u001b[49m\u001b[43m(\u001b[49m\u001b[43mtimeout\u001b[49m\u001b[43m)\u001b[49m\n\u001b[1;32m    729\u001b[0m end_select \u001b[38;5;241m=\u001b[39m time\u001b[38;5;241m.\u001b[39mtime()\n\u001b[1;32m    730\u001b[0m \u001b[38;5;28;01mif\u001b[39;00m \u001b[38;5;28mself\u001b[39m\u001b[38;5;241m.\u001b[39m_sensors:\n",
      "File \u001b[0;32m/data/miniconda3/envs/automl/lib/python3.10/selectors.py:469\u001b[0m, in \u001b[0;36mEpollSelector.select\u001b[0;34m(self, timeout)\u001b[0m\n\u001b[1;32m    467\u001b[0m ready \u001b[38;5;241m=\u001b[39m []\n\u001b[1;32m    468\u001b[0m \u001b[38;5;28;01mtry\u001b[39;00m:\n\u001b[0;32m--> 469\u001b[0m     fd_event_list \u001b[38;5;241m=\u001b[39m \u001b[38;5;28;43mself\u001b[39;49m\u001b[38;5;241;43m.\u001b[39;49m\u001b[43m_selector\u001b[49m\u001b[38;5;241;43m.\u001b[39;49m\u001b[43mpoll\u001b[49m\u001b[43m(\u001b[49m\u001b[43mtimeout\u001b[49m\u001b[43m,\u001b[49m\u001b[43m \u001b[49m\u001b[43mmax_ev\u001b[49m\u001b[43m)\u001b[49m\n\u001b[1;32m    470\u001b[0m \u001b[38;5;28;01mexcept\u001b[39;00m \u001b[38;5;167;01mInterruptedError\u001b[39;00m:\n\u001b[1;32m    471\u001b[0m     \u001b[38;5;28;01mreturn\u001b[39;00m ready\n",
      "\u001b[0;31mKeyboardInterrupt\u001b[0m: "
     ]
    }
   ],
   "source": [
    "from kafka import KafkaConsumer\n",
    "\n",
    "# Create a Kafka consumer\n",
    "consumer = KafkaConsumer(\n",
    "    'my-topic',                          # Topic name\n",
    "    bootstrap_servers='10.100.200.119:9092',  # Kafka broker\n",
    "    auto_offset_reset='earliest',\n",
    ")\n",
    "\n",
    "# Read messages from Kafka\n",
    "print(\"Listening for messages...\")\n",
    "for message in consumer:\n",
    "    print(f\"Received: {message.value}\")\n"
   ]
  }
 ],
 "metadata": {
  "kernelspec": {
   "display_name": "automl",
   "language": "python",
   "name": "python3"
  },
  "language_info": {
   "codemirror_mode": {
    "name": "ipython",
    "version": 3
   },
   "file_extension": ".py",
   "mimetype": "text/x-python",
   "name": "python",
   "nbconvert_exporter": "python",
   "pygments_lexer": "ipython3",
   "version": "3.10.12"
  }
 },
 "nbformat": 4,
 "nbformat_minor": 2
}
